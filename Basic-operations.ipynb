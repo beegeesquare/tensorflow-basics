{
 "cells": [
  {
   "cell_type": "code",
   "execution_count": 1,
   "metadata": {},
   "outputs": [
    {
     "name": "stdout",
     "output_type": "stream",
     "text": [
      "b'Hello world !'\n"
     ]
    }
   ],
   "source": [
    "import tensorflow as tf\n",
    "\n",
    "# Create a tensorflow object \n",
    "tf_constant = tf.constant(\"Hello world !\")\n",
    "\n",
    "with tf.Session() as sess:\n",
    "    output = sess.run(tf_constant)\n",
    "    print (output)"
   ]
  },
  {
   "cell_type": "code",
   "execution_count": 5,
   "metadata": {},
   "outputs": [
    {
     "name": "stdout",
     "output_type": "stream",
     "text": [
      "5 6\n"
     ]
    }
   ],
   "source": [
    "a = tf.constant(2)\n",
    "b = tf.constant(3)\n",
    "\n",
    "c = tf.add(a, b)\n",
    "d = tf.multiply(a, b)\n",
    "with tf.Session() as sess:\n",
    "    output = sess.run(c)\n",
    "    output2 = sess.run(d)\n",
    "    print (output, output2)\n"
   ]
  },
  {
   "cell_type": "code",
   "execution_count": 12,
   "metadata": {},
   "outputs": [
    {
     "name": "stdout",
     "output_type": "stream",
     "text": [
      "8.0\n"
     ]
    }
   ],
   "source": [
    "# Other ways to perform basic operations\n",
    "a = tf.placeholder(tf.float32)\n",
    "b = tf.placeholder(tf.float32)\n",
    "\n",
    "c = tf.add(a, b)\n",
    "d = tf.multiply(a, b)\n",
    "\n",
    "with tf.Session() as sess:\n",
    "    output = sess.run(c, feed_dict={a:3, b:5})\n",
    "    output2 = sess.run(d, feed_dict={a:3, b:5})\n",
    "    print (output, output2)\n"
   ]
  },
  {
   "cell_type": "code",
   "execution_count": 15,
   "metadata": {},
   "outputs": [
    {
     "name": "stdout",
     "output_type": "stream",
     "text": [
      "Tensor(\"string_variable_x:0\", dtype=string)\n",
      "Test string\n"
     ]
    }
   ],
   "source": [
    "# Tensors can be string as well\n",
    "x = tf.placeholder(tf.string, name='string_variable_x')\n",
    "print (x)\n",
    "with tf.Session() as sess:\n",
    "    output = sess.run(x, feed_dict={x: 'Test string'}) # Here first argument x can be string\n",
    "    print (output)"
   ]
  },
  {
   "cell_type": "code",
   "execution_count": 16,
   "metadata": {},
   "outputs": [
    {
     "name": "stdout",
     "output_type": "stream",
     "text": [
      "5.0\n",
      "10\n"
     ]
    }
   ],
   "source": [
    "import tensorflow as tf\n",
    "\n",
    "# Convert the following to TensorFlow:\n",
    "x = 10\n",
    "y = 2\n",
    "z = x/y - 1\n",
    "\n",
    "# TODO: Print z from a session\n",
    "x = tf.constant(x)\n",
    "y = tf.constant(y)\n",
    "z = tf.divide(x, y)\n",
    "\n",
    "with tf.Session() as sess:\n",
    "    output = sess.run(z)\n",
    "    test = sess.run(x)\n",
    "    print (output)\n",
    "    print (test)\n",
    "# z = tf.subtract(-tf.constant(1))\n"
   ]
  },
  {
   "cell_type": "code",
   "execution_count": 24,
   "metadata": {},
   "outputs": [
    {
     "name": "stdout",
     "output_type": "stream",
     "text": [
      "Tensor(\"Const_16:0\", shape=(3, 2), dtype=int32)\n",
      "Tensor(\"Const_17:0\", shape=(2, 3), dtype=int32)\n",
      "[[ 56  76  39]\n",
      " [ 56  32  40]\n",
      " [ 76 100  53]]\n"
     ]
    }
   ],
   "source": [
    "# Matrices in tensorflow\n",
    "import numpy as np\n",
    "matrix1 = tf.constant(np.random.randint(0,10,size=(3,2)))\n",
    "print (matrix1)\n",
    "matrix2 = tf.constant(np.random.randint(0,10, size=(2,3)))\n",
    "print (matrix2)\n",
    "matrix = tf.matmul(matrix1, matrix2)\n",
    "# Printing always is done using the Session\n",
    "with tf.Session() as sess:\n",
    "    print(sess.run(matrix))\n"
   ]
  },
  {
   "cell_type": "code",
   "execution_count": null,
   "metadata": {
    "collapsed": true
   },
   "outputs": [],
   "source": []
  }
 ],
 "metadata": {
  "kernelspec": {
   "display_name": "Python 3",
   "language": "python",
   "name": "python3"
  },
  "language_info": {
   "codemirror_mode": {
    "name": "ipython",
    "version": 3
   },
   "file_extension": ".py",
   "mimetype": "text/x-python",
   "name": "python",
   "nbconvert_exporter": "python",
   "pygments_lexer": "ipython3",
   "version": "3.5.3"
  }
 },
 "nbformat": 4,
 "nbformat_minor": 2
}
